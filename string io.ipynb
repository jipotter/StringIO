{
 "cells": [
  {
   "cell_type": "markdown",
   "metadata": {},
   "source": [
    "# io.StringIO (memory file,read string as file )"
   ]
  },
  {
   "cell_type": "code",
   "execution_count": 3,
   "metadata": {},
   "outputs": [],
   "source": [
    "import pandas as pd\n",
    "import requests\n",
    "import io\n",
    "#from io import StringIO"
   ]
  },
  {
   "cell_type": "code",
   "execution_count": 10,
   "metadata": {},
   "outputs": [
    {
     "data": {
      "text/plain": [
       "Timestamp('2020-06-05 13:53:13.058061')"
      ]
     },
     "execution_count": 10,
     "metadata": {},
     "output_type": "execute_result"
    }
   ],
   "source": [
    "pd.Timestamp.now()"
   ]
  },
  {
   "cell_type": "code",
   "execution_count": 11,
   "metadata": {},
   "outputs": [
    {
     "name": "stdout",
     "output_type": "stream",
     "text": [
      "pandas version:  1.0.3\n"
     ]
    }
   ],
   "source": [
    "print(f'pandas version:  {pd.__version__}')"
   ]
  },
  {
   "cell_type": "markdown",
   "metadata": {},
   "source": [
    "# example 1: string"
   ]
  },
  {
   "cell_type": "code",
   "execution_count": 12,
   "metadata": {},
   "outputs": [],
   "source": [
    "\n",
    "s=\"\"\"\n",
    "p_id,name,name_en,region,area_km2\n",
    "กจ,กาญจนบุรี,Kanchanaburi,C,19483.148\n",
    "กทม,กรุงเทพมหานคร,Bangkok,C,1568.737\n",
    "จบ,จันทบุรี,Chanthaburi,C,6338.0\n",
    "ฉช,ฉะเชิงเทรา,Chachoengsao,C,5351.0\n",
    "\"\"\""
   ]
  },
  {
   "cell_type": "code",
   "execution_count": 15,
   "metadata": {},
   "outputs": [
    {
     "data": {
      "text/html": [
       "<div>\n",
       "<style scoped>\n",
       "    .dataframe tbody tr th:only-of-type {\n",
       "        vertical-align: middle;\n",
       "    }\n",
       "\n",
       "    .dataframe tbody tr th {\n",
       "        vertical-align: top;\n",
       "    }\n",
       "\n",
       "    .dataframe thead th {\n",
       "        text-align: right;\n",
       "    }\n",
       "</style>\n",
       "<table border=\"1\" class=\"dataframe\">\n",
       "  <thead>\n",
       "    <tr style=\"text-align: right;\">\n",
       "      <th></th>\n",
       "      <th>p_id</th>\n",
       "      <th>name</th>\n",
       "      <th>name_en</th>\n",
       "      <th>region</th>\n",
       "      <th>area_km2</th>\n",
       "    </tr>\n",
       "  </thead>\n",
       "  <tbody>\n",
       "    <tr>\n",
       "      <th>0</th>\n",
       "      <td>กจ</td>\n",
       "      <td>กาญจนบุรี</td>\n",
       "      <td>Kanchanaburi</td>\n",
       "      <td>C</td>\n",
       "      <td>19483.148</td>\n",
       "    </tr>\n",
       "    <tr>\n",
       "      <th>1</th>\n",
       "      <td>กทม</td>\n",
       "      <td>กรุงเทพมหานคร</td>\n",
       "      <td>Bangkok</td>\n",
       "      <td>C</td>\n",
       "      <td>1568.737</td>\n",
       "    </tr>\n",
       "    <tr>\n",
       "      <th>2</th>\n",
       "      <td>จบ</td>\n",
       "      <td>จันทบุรี</td>\n",
       "      <td>Chanthaburi</td>\n",
       "      <td>C</td>\n",
       "      <td>6338.000</td>\n",
       "    </tr>\n",
       "    <tr>\n",
       "      <th>3</th>\n",
       "      <td>ฉช</td>\n",
       "      <td>ฉะเชิงเทรา</td>\n",
       "      <td>Chachoengsao</td>\n",
       "      <td>C</td>\n",
       "      <td>5351.000</td>\n",
       "    </tr>\n",
       "  </tbody>\n",
       "</table>\n",
       "</div>"
      ],
      "text/plain": [
       "  p_id           name       name_en region   area_km2\n",
       "0   กจ      กาญจนบุรี  Kanchanaburi      C  19483.148\n",
       "1  กทม  กรุงเทพมหานคร       Bangkok      C   1568.737\n",
       "2   จบ       จันทบุรี   Chanthaburi      C   6338.000\n",
       "3   ฉช     ฉะเชิงเทรา  Chachoengsao      C   5351.000"
      ]
     },
     "execution_count": 15,
     "metadata": {},
     "output_type": "execute_result"
    }
   ],
   "source": [
    "dt = pd.read_csv(io.StringIO(s))\n",
    "dt"
   ]
  },
  {
   "cell_type": "markdown",
   "metadata": {},
   "source": [
    "# exmaple 2 : request get"
   ]
  },
  {
   "cell_type": "code",
   "execution_count": 24,
   "metadata": {},
   "outputs": [
    {
     "name": "stdout",
     "output_type": "stream",
     "text": [
      "            Date  Price\n",
      "0     1987-05-20  18.63\n",
      "1     1987-05-21  18.45\n",
      "2     1987-05-22  18.55\n",
      "3     1987-05-25  18.60\n",
      "4     1987-05-26  18.63\n",
      "...          ...    ...\n",
      "8380  2020-05-26  33.95\n",
      "8381  2020-05-27  32.73\n",
      "8382  2020-05-28  33.98\n",
      "8383  2020-05-29  34.15\n",
      "8384  2020-06-01  36.74\n",
      "\n",
      "[8385 rows x 2 columns]\n"
     ]
    }
   ],
   "source": [
    "url='https://datahub.io/core/oil-prices/r/brent-daily.csv'\n",
    "df=pd.read_csv(url)\n",
    "print(df)"
   ]
  },
  {
   "cell_type": "code",
   "execution_count": 20,
   "metadata": {},
   "outputs": [
    {
     "name": "stdout",
     "output_type": "stream",
     "text": [
      "Date,Price\r\n",
      "1987-05-20,18.63\r\n",
      "1987-05-21,18.45\r\n",
      "1987-05-22,18.55\r\n",
      "1987-05-25,18.6\r\n",
      "1987-05-26,18.63\r\n",
      "1987-05-27,18.6\r\n",
      "1987-05-28,18.6\r\n",
      "1987-05-29,18.58\r\n",
      "1987-06-01,18.65\r\n",
      "1987-06-02,18.68\r\n",
      "1987-06-03,18.75\r\n",
      "1987-06-04,18.78\r\n",
      "1987-06-05,18.65\r\n",
      "1987-06-08,18.75\r\n",
      "1987-06-09,18.78\r\n",
      "1987-06-10,18.78\r\n",
      "1987-06-11,18.68\r\n",
      "1987-06-12,18.78\r\n",
      "1987-06-16,18.9\r\n",
      "1987-06-17,19.03\r\n",
      "1987-06-18,19.05\r\n",
      "1987-06-19,19.05\r\n",
      "1987-06-22,19.1\r\n",
      "1987-06-23,18.9\r\n",
      "1987-06-24,18.75\r\n",
      "1987-06-25,18.7\r\n",
      "1987-06-26,19.08\r\n",
      "1987-06-2\n"
     ]
    }
   ],
   "source": [
    "r = requests.get(url)\n",
    "print(r.text[:500])"
   ]
  },
  {
   "cell_type": "code",
   "execution_count": 27,
   "metadata": {},
   "outputs": [
    {
     "data": {
      "text/plain": [
       "str"
      ]
     },
     "execution_count": 27,
     "metadata": {},
     "output_type": "execute_result"
    }
   ],
   "source": [
    "#มองว่า r.text คือ str\n",
    "type(r.text)"
   ]
  },
  {
   "cell_type": "markdown",
   "metadata": {},
   "source": [
    "ประโยนช์ stringio คือบางที่ถ้าไม่สามารถอ่านไฟล์โดยตรงได้ใช่ request.get เเล้วเเปลงเป็น .text ค่อย csv"
   ]
  },
  {
   "cell_type": "markdown",
   "metadata": {},
   "source": [
    "# example 3: Spotify top charts\n",
    "https://spotifycharts.com/regional/th/daily/latest"
   ]
  },
  {
   "cell_type": "code",
   "execution_count": 30,
   "metadata": {},
   "outputs": [
    {
     "data": {
      "text/plain": [
       "',,,\"Note that these figures are generated using a formula that protects against any artificial inflation of chart positions.\",\\nPosition,\"Track Name\",Artist,Streams,URL\\n1,\"ROCKSTAR (feat. Roddy Ricch)\",DaBaby,5593056,https://open.spotify.com/track/7ytR5pFWmSjzHJIeQkgog4\\n2,\"Blinding Lights\",\"The Weeknd\",4852083,https://open.spotify.com/track/0VjIjW4GlUZAMYd2vXMi3b\\n3,\"Rain On Me (with Ariana Grande)\",\"Lady Gaga\",4322094,https://open.spotify.com/track/7ju97lgwC2rKQ6wwsf9no9\\n4,\"Roses - Imanbek Remix\"'"
      ]
     },
     "execution_count": 30,
     "metadata": {},
     "output_type": "execute_result"
    }
   ],
   "source": [
    "url = 'https://spotifycharts.com/regional/global/daily/latest/download'\n",
    "ds = requests.get(url)\n",
    "ds.text[:500]"
   ]
  },
  {
   "cell_type": "code",
   "execution_count": 32,
   "metadata": {},
   "outputs": [],
   "source": [
    "rd = pd.read_csv(io.StringIO(ds.text),skiprows=1)"
   ]
  },
  {
   "cell_type": "code",
   "execution_count": 34,
   "metadata": {},
   "outputs": [
    {
     "name": "stdout",
     "output_type": "stream",
     "text": [
      "     Position                       Track Name          Artist  Streams  \\\n",
      "0           1     ROCKSTAR (feat. Roddy Ricch)          DaBaby  5593056   \n",
      "1           2                  Blinding Lights      The Weeknd  4852083   \n",
      "2           3  Rain On Me (with Ariana Grande)       Lady Gaga  4322094   \n",
      "3           4            Roses - Imanbek Remix       SAINt JHN  4194493   \n",
      "4           5                     Toosie Slide           Drake  3739129   \n",
      "..        ...                              ...             ...      ...   \n",
      "195       196                        Lights Up    Harry Styles   624300   \n",
      "196       197                You should be sad          Halsey   619201   \n",
      "197       198                           Replay       Lady Gaga   618493   \n",
      "198       199              If I Can't Have You    Shawn Mendes   615593   \n",
      "199       200          My Oh My (feat. DaBaby)  Camila Cabello   615319   \n",
      "\n",
      "                                                   URL  \n",
      "0    https://open.spotify.com/track/7ytR5pFWmSjzHJI...  \n",
      "1    https://open.spotify.com/track/0VjIjW4GlUZAMYd...  \n",
      "2    https://open.spotify.com/track/7ju97lgwC2rKQ6w...  \n",
      "3    https://open.spotify.com/track/24Yi9hE78yPEbZ4...  \n",
      "4    https://open.spotify.com/track/466cKvZn1j45Ipx...  \n",
      "..                                                 ...  \n",
      "195  https://open.spotify.com/track/4jAIqgrPjKLTY9G...  \n",
      "196  https://open.spotify.com/track/7lidXGPXPYLNThI...  \n",
      "197  https://open.spotify.com/track/7sKbyYeJnITO1Eh...  \n",
      "198  https://open.spotify.com/track/2bT1PH7Cw3J9p3t...  \n",
      "199  https://open.spotify.com/track/3yOlyBJuViE2YSG...  \n",
      "\n",
      "[200 rows x 5 columns]\n"
     ]
    }
   ],
   "source": [
    "print(rd)"
   ]
  },
  {
   "cell_type": "code",
   "execution_count": null,
   "metadata": {},
   "outputs": [],
   "source": []
  }
 ],
 "metadata": {
  "kernelspec": {
   "display_name": "Python 3",
   "language": "python",
   "name": "python3"
  },
  "language_info": {
   "codemirror_mode": {
    "name": "ipython",
    "version": 3
   },
   "file_extension": ".py",
   "mimetype": "text/x-python",
   "name": "python",
   "nbconvert_exporter": "python",
   "pygments_lexer": "ipython3",
   "version": "3.7.6"
  }
 },
 "nbformat": 4,
 "nbformat_minor": 4
}
